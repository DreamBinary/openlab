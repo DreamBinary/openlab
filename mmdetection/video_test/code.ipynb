{
 "cells": [
  {
   "cell_type": "code",
   "execution_count": 11,
   "outputs": [],
   "source": [
    "import mmcv\n",
    "from mmdet.apis import init_detector, inference_detector, show_result_pyplot\n",
    "import os\n",
    "import numpy as np"
   ],
   "metadata": {
    "collapsed": false
   }
  },
  {
   "cell_type": "code",
   "execution_count": null,
   "outputs": [],
   "source": [],
   "metadata": {
    "collapsed": false
   }
  },
  {
   "cell_type": "code",
   "execution_count": 3,
   "metadata": {
    "collapsed": true
   },
   "outputs": [
    {
     "name": "stdout",
     "output_type": "stream",
     "text": [
      "[>>>>>>>>>>>>>>>>>>>>>>>>>>>>>>] 150/150, 29.8 task/s, elapsed: 5s, ETA:     0s\n"
     ]
    }
   ],
   "source": [
    "\n",
    "v = mmcv.VideoReader(\"test_video.mp4\")\n",
    "v.cvt2frames(\"frame_dir/in\")"
   ]
  },
  {
   "cell_type": "code",
   "execution_count": 4,
   "outputs": [
    {
     "name": "stdout",
     "output_type": "stream",
     "text": [
      "load checkpoint from local path: ../work_dir/latest.pth\n"
     ]
    }
   ],
   "source": [
    "model = init_detector(config=\"../work_dir/balloon.py\", checkpoint=\"../work_dir/latest.pth\")"
   ],
   "metadata": {
    "collapsed": false
   }
  },
  {
   "cell_type": "markdown",
   "source": [],
   "metadata": {
    "collapsed": false
   }
  },
  {
   "cell_type": "code",
   "execution_count": 14,
   "outputs": [],
   "source": [
    "img_path = \"../data/balloon/val/3825919971_93fb1ec581_b.jpg\"\n",
    "result = inference_detector(model, img_path)\n",
    "show_result_pyplot(model, img_path, result, score_thr=0.85, out_file=\"img.jpg\")"
   ],
   "metadata": {
    "collapsed": false
   }
  },
  {
   "cell_type": "code",
   "execution_count": null,
   "outputs": [],
   "source": [],
   "metadata": {
    "collapsed": false
   }
  },
  {
   "cell_type": "code",
   "execution_count": 7,
   "outputs": [],
   "source": [
    "def transform_img(in_path, out_path, score_thr=0.85):\n",
    "    for file_name in os.listdir(in_path):\n",
    "        img_path = os.path.join(in_path, file_name)\n",
    "        result = inference_detector(model, img_path)\n",
    "        bbox, segm = result\n",
    "        bbox = np.array(bbox[0])\n",
    "        segm = np.array(segm[0])\n",
    "balloon_cnt = bbox[bbox[:, -1] > score_thr].shape[0]\n",
    "data = mmcv.imread(img_path)  # -> ndarray\n",
    "tmp = data.copy()\n",
    "# Gray = (Red * 0.3 + Green * 0.59 + Blue * 0.11)\n",
    "# 'bgr'\n",
    "data[:, :, 0] = data[:, :, 2] * 0.3 + data[:, :, 1] * 0.59 + data[:, :, 0] * 0.11\n",
    "data[:, :, 1] = data[:, :, 0]\n",
    "data[:, :, 2] = data[:, :, 0]\n",
    "for balloon in segm[:balloon_cnt]:\n",
    "    data[balloon] = tmp[balloon]\n",
    "mmcv.imwrite(data, os.path.join(out_path, file_name))\n",
    "\n",
    "\n",
    "transform_img(\"frame_dir/in\", \"frame_dir/out\")"
   ],
   "metadata": {
    "collapsed": false
   }
  },
  {
   "cell_type": "code",
   "execution_count": 8,
   "outputs": [
    {
     "name": "stdout",
     "output_type": "stream",
     "text": [
      "[>>>>>>>>>>>>>>>>>>>>>>>>>>>>>>] 125/125, 23.2 task/s, elapsed: 5s, ETA:     0s\n",
      "--\n"
     ]
    }
   ],
   "source": [
    "mmcv.frames2video(frame_dir=\"frame_dir/out\", video_file=\"video_out.mp4\")\n",
    "print(\"--\")"
   ],
   "metadata": {
    "collapsed": false
   }
  },
  {
   "cell_type": "code",
   "execution_count": null,
   "outputs": [],
   "source": [],
   "metadata": {
    "collapsed": false
   }
  }
 ],
 "metadata": {
  "kernelspec": {
   "display_name": "Python 3",
   "language": "python",
   "name": "python3"
  },
  "language_info": {
   "codemirror_mode": {
    "name": "ipython",
    "version": 2
   },
   "file_extension": ".py",
   "mimetype": "text/x-python",
   "name": "python",
   "nbconvert_exporter": "python",
   "pygments_lexer": "ipython2",
   "version": "2.7.6"
  }
 },
 "nbformat": 4,
 "nbformat_minor": 0
}
